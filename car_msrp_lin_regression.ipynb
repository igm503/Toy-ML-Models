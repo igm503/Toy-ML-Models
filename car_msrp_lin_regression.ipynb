{
 "cells": [
  {
   "cell_type": "code",
   "execution_count": 11,
   "id": "2a8d6ec3",
   "metadata": {},
   "outputs": [],
   "source": [
    "import pandas as pd\n",
    "import numpy as np\n",
    "import matplotlib.pyplot as plt\n",
    "import seaborn as sns\n",
    "%matplotlib inline"
   ]
  },
  {
   "cell_type": "code",
   "execution_count": 511,
   "id": "4b3dd620",
   "metadata": {},
   "outputs": [
    {
     "name": "stdout",
     "output_type": "stream",
     "text": [
      "Downloading cardataset.zip to ./cardataset\n"
     ]
    },
    {
     "name": "stderr",
     "output_type": "stream",
     "text": [
      "100%|██████████| 103k/103k [00:00<00:00, 5.54MB/s]"
     ]
    },
    {
     "name": "stdout",
     "output_type": "stream",
     "text": [
      "\n"
     ]
    },
    {
     "name": "stderr",
     "output_type": "stream",
     "text": [
      "\n"
     ]
    }
   ],
   "source": [
    "# If you need to download the data\n",
    "import opendatasets as od\n",
    "od.download('https://www.kaggle.com/datasets/CooperUnion/cardataset')"
   ]
  },
  {
   "cell_type": "markdown",
   "id": "2efa5bdf",
   "metadata": {},
   "source": [
    "# Data Preparation"
   ]
  },
  {
   "cell_type": "markdown",
   "id": "b0ad9d61",
   "metadata": {},
   "source": [
    "### Subfunctions for Data Formatting"
   ]
  },
  {
   "cell_type": "markdown",
   "id": "96bf1702",
   "metadata": {},
   "source": [
    "Import csv data as a DataFrame"
   ]
  },
  {
   "cell_type": "code",
   "execution_count": 36,
   "id": "197927fe",
   "metadata": {},
   "outputs": [],
   "source": [
    "def get_data(file_path):\n",
    "    df = pd.read_csv(file_path)\n",
    "    return df"
   ]
  },
  {
   "cell_type": "code",
   "execution_count": 119,
   "id": "adde5859",
   "metadata": {},
   "outputs": [],
   "source": [
    "df.isnull().sum()\n",
    "# Only ~70 items are missing variables of interest, so I think it's best to delete them.\n",
    "def remove_nulls(df):\n",
    "    df = df[df['engine_hp'].isnull() == False]\n",
    "    df = df[df['engine_cylinders'].isnull() == False]\n",
    "    df = df[df['number_of_doors'].isnull() == False]\n",
    "    return df"
   ]
  },
  {
   "cell_type": "markdown",
   "id": "13e07b19",
   "metadata": {},
   "source": [
    "Standardize Col Names and String values"
   ]
  },
  {
   "cell_type": "code",
   "execution_count": 63,
   "id": "68d463cd",
   "metadata": {},
   "outputs": [],
   "source": [
    "def form_str_vals(df):\n",
    "    df.columns = df.columns.str.lower().str.replace(' ', '_')\n",
    "    str_features = df.dtypes.index[df.dtypes == object]\n",
    "    for feature in str_features:\n",
    "        df[feature] = df[feature].str.lower().str.replace(' ', '_')\n",
    "    return df"
   ]
  },
  {
   "cell_type": "markdown",
   "id": "edfa7315",
   "metadata": {},
   "source": [
    "Create Categorical Vars for # of Doors \n",
    "(default is 4 doors)"
   ]
  },
  {
   "cell_type": "code",
   "execution_count": 64,
   "id": "a4981628",
   "metadata": {},
   "outputs": [],
   "source": [
    "def add_doors(df):\n",
    "    for num_doors in [2, 3]: # Defaulting to 4 doors, to avoid collinearity issues\n",
    "        df[f'{num_doors}_doors'] = (df['number_of_doors'] == num_doors) * 2 # to convert from Bool to Int\n",
    "    return df"
   ]
  },
  {
   "cell_type": "markdown",
   "id": "476caa68",
   "metadata": {},
   "source": [
    "Create log(msrp) variable (since msrp has a rightward tail)"
   ]
  },
  {
   "cell_type": "code",
   "execution_count": 65,
   "id": "11b5ff44",
   "metadata": {},
   "outputs": [],
   "source": [
    "def log_msrp(df):\n",
    "    df['log_msrp'] = np.log1p(df['msrp'])\n",
    "    return df"
   ]
  },
  {
   "cell_type": "markdown",
   "id": "4ca5c4d1",
   "metadata": {},
   "source": [
    "Create Categorical Vars for RWD, 4WD, and AWD (default is FWD)"
   ]
  },
  {
   "cell_type": "code",
   "execution_count": 67,
   "id": "6467963a",
   "metadata": {},
   "outputs": [],
   "source": [
    "def add_drive(df):\n",
    "    for wheels in df['driven_wheels'].unique():\n",
    "        df[wheels] = (df['driven_wheels'] == wheels) * 1 # Converting Bool to Int\n",
    "    del df['front_wheel_drive'] # to avoid collinearity issues\n",
    "    return df"
   ]
  },
  {
   "cell_type": "markdown",
   "id": "7a1f7c70",
   "metadata": {},
   "source": [
    "Create Categorical Var for Manual (default is Automatic)"
   ]
  },
  {
   "cell_type": "code",
   "execution_count": 77,
   "id": "dae28344",
   "metadata": {},
   "outputs": [],
   "source": [
    "def add_trans(df):\n",
    "    df['manual'] = (df['transmission_type'] == 'manual') * 1 # Convert Bool to Int\n",
    "    return df"
   ]
  },
  {
   "cell_type": "markdown",
   "id": "31f0c955",
   "metadata": {},
   "source": [
    "Create Age Variable"
   ]
  },
  {
   "cell_type": "code",
   "execution_count": 78,
   "id": "453202ad",
   "metadata": {},
   "outputs": [],
   "source": [
    "def add_age(df):\n",
    "    df['age'] = 2017 - df['year']\n",
    "    return df"
   ]
  },
  {
   "cell_type": "markdown",
   "id": "22a0abba",
   "metadata": {},
   "source": [
    "Create Style Variable (Default is Coupe)"
   ]
  },
  {
   "cell_type": "code",
   "execution_count": 456,
   "id": "d52ea9d7",
   "metadata": {},
   "outputs": [],
   "source": [
    "df['vehicle_style'].unique()\n",
    "def add_style(df):\n",
    "    for style in df['vehicle_style'].unique():\n",
    "        df[style] = (df['vehicle_style'] == style) * 1\n",
    "    del df['coupe']\n",
    "    return df"
   ]
  },
  {
   "cell_type": "markdown",
   "id": "afa8d16e",
   "metadata": {},
   "source": [
    "Create Make Variable (Default is Fiat)"
   ]
  },
  {
   "cell_type": "code",
   "execution_count": 457,
   "id": "2b1b3d15",
   "metadata": {},
   "outputs": [
    {
     "data": {
      "text/plain": [
       "array(['coupe', 'convertible', 'sedan', 'wagon', '4dr_hatchback',\n",
       "       '2dr_hatchback', '4dr_suv', 'passenger_minivan', 'cargo_minivan',\n",
       "       'crew_cab_pickup', 'regular_cab_pickup', 'extended_cab_pickup',\n",
       "       '2dr_suv', 'cargo_van', 'convertible_suv', 'passenger_van'],\n",
       "      dtype=object)"
      ]
     },
     "execution_count": 457,
     "metadata": {},
     "output_type": "execute_result"
    }
   ],
   "source": [
    "def add_make(df):\n",
    "    for maker in df['make'].unique():\n",
    "        df[maker] = (df['make'] == maker) * 1 # Convert Bool to Int\n",
    "    del df['fiat'] # Fiat is default maker, to avoid collinearity issues\n",
    "    return df\n",
    "df['vehicle_style'].unique()"
   ]
  },
  {
   "cell_type": "markdown",
   "id": "5440cc72",
   "metadata": {},
   "source": [
    "### Main Function for Data Formatting"
   ]
  },
  {
   "cell_type": "code",
   "execution_count": 461,
   "id": "9dbd2458",
   "metadata": {},
   "outputs": [],
   "source": [
    "def get_formatted_data(file_name):\n",
    "    df = get_data(file_name)\n",
    "    df = form_str_vals(df)\n",
    "    df = remove_nulls(df)\n",
    "    df = add_doors(df)\n",
    "    df = log_msrp(df)\n",
    "    df = add_drive(df)\n",
    "    df = add_age(df)\n",
    "    df = add_trans(df)\n",
    "    df = add_make(df)\n",
    "    df = add_style(df)\n",
    "    return df"
   ]
  },
  {
   "cell_type": "code",
   "execution_count": 462,
   "id": "dcae2e62",
   "metadata": {},
   "outputs": [
    {
     "data": {
      "text/html": [
       "<div>\n",
       "<style scoped>\n",
       "    .dataframe tbody tr th:only-of-type {\n",
       "        vertical-align: middle;\n",
       "    }\n",
       "\n",
       "    .dataframe tbody tr th {\n",
       "        vertical-align: top;\n",
       "    }\n",
       "\n",
       "    .dataframe thead th {\n",
       "        text-align: right;\n",
       "    }\n",
       "</style>\n",
       "<table border=\"1\" class=\"dataframe\">\n",
       "  <thead>\n",
       "    <tr style=\"text-align: right;\">\n",
       "      <th></th>\n",
       "      <th>make</th>\n",
       "      <th>model</th>\n",
       "      <th>year</th>\n",
       "      <th>engine_fuel_type</th>\n",
       "      <th>engine_hp</th>\n",
       "      <th>engine_cylinders</th>\n",
       "      <th>transmission_type</th>\n",
       "      <th>driven_wheels</th>\n",
       "      <th>number_of_doors</th>\n",
       "      <th>market_category</th>\n",
       "      <th>...</th>\n",
       "      <th>4dr_suv</th>\n",
       "      <th>passenger_minivan</th>\n",
       "      <th>cargo_minivan</th>\n",
       "      <th>crew_cab_pickup</th>\n",
       "      <th>regular_cab_pickup</th>\n",
       "      <th>extended_cab_pickup</th>\n",
       "      <th>2dr_suv</th>\n",
       "      <th>cargo_van</th>\n",
       "      <th>convertible_suv</th>\n",
       "      <th>passenger_van</th>\n",
       "    </tr>\n",
       "  </thead>\n",
       "  <tbody>\n",
       "    <tr>\n",
       "      <th>0</th>\n",
       "      <td>bmw</td>\n",
       "      <td>1_series_m</td>\n",
       "      <td>2011</td>\n",
       "      <td>premium_unleaded_(required)</td>\n",
       "      <td>335.0</td>\n",
       "      <td>6.0</td>\n",
       "      <td>manual</td>\n",
       "      <td>rear_wheel_drive</td>\n",
       "      <td>2.0</td>\n",
       "      <td>factory_tuner,luxury,high-performance</td>\n",
       "      <td>...</td>\n",
       "      <td>0</td>\n",
       "      <td>0</td>\n",
       "      <td>0</td>\n",
       "      <td>0</td>\n",
       "      <td>0</td>\n",
       "      <td>0</td>\n",
       "      <td>0</td>\n",
       "      <td>0</td>\n",
       "      <td>0</td>\n",
       "      <td>0</td>\n",
       "    </tr>\n",
       "    <tr>\n",
       "      <th>1</th>\n",
       "      <td>bmw</td>\n",
       "      <td>1_series</td>\n",
       "      <td>2011</td>\n",
       "      <td>premium_unleaded_(required)</td>\n",
       "      <td>300.0</td>\n",
       "      <td>6.0</td>\n",
       "      <td>manual</td>\n",
       "      <td>rear_wheel_drive</td>\n",
       "      <td>2.0</td>\n",
       "      <td>luxury,performance</td>\n",
       "      <td>...</td>\n",
       "      <td>0</td>\n",
       "      <td>0</td>\n",
       "      <td>0</td>\n",
       "      <td>0</td>\n",
       "      <td>0</td>\n",
       "      <td>0</td>\n",
       "      <td>0</td>\n",
       "      <td>0</td>\n",
       "      <td>0</td>\n",
       "      <td>0</td>\n",
       "    </tr>\n",
       "    <tr>\n",
       "      <th>2</th>\n",
       "      <td>bmw</td>\n",
       "      <td>1_series</td>\n",
       "      <td>2011</td>\n",
       "      <td>premium_unleaded_(required)</td>\n",
       "      <td>300.0</td>\n",
       "      <td>6.0</td>\n",
       "      <td>manual</td>\n",
       "      <td>rear_wheel_drive</td>\n",
       "      <td>2.0</td>\n",
       "      <td>luxury,high-performance</td>\n",
       "      <td>...</td>\n",
       "      <td>0</td>\n",
       "      <td>0</td>\n",
       "      <td>0</td>\n",
       "      <td>0</td>\n",
       "      <td>0</td>\n",
       "      <td>0</td>\n",
       "      <td>0</td>\n",
       "      <td>0</td>\n",
       "      <td>0</td>\n",
       "      <td>0</td>\n",
       "    </tr>\n",
       "    <tr>\n",
       "      <th>3</th>\n",
       "      <td>bmw</td>\n",
       "      <td>1_series</td>\n",
       "      <td>2011</td>\n",
       "      <td>premium_unleaded_(required)</td>\n",
       "      <td>230.0</td>\n",
       "      <td>6.0</td>\n",
       "      <td>manual</td>\n",
       "      <td>rear_wheel_drive</td>\n",
       "      <td>2.0</td>\n",
       "      <td>luxury,performance</td>\n",
       "      <td>...</td>\n",
       "      <td>0</td>\n",
       "      <td>0</td>\n",
       "      <td>0</td>\n",
       "      <td>0</td>\n",
       "      <td>0</td>\n",
       "      <td>0</td>\n",
       "      <td>0</td>\n",
       "      <td>0</td>\n",
       "      <td>0</td>\n",
       "      <td>0</td>\n",
       "    </tr>\n",
       "    <tr>\n",
       "      <th>4</th>\n",
       "      <td>bmw</td>\n",
       "      <td>1_series</td>\n",
       "      <td>2011</td>\n",
       "      <td>premium_unleaded_(required)</td>\n",
       "      <td>230.0</td>\n",
       "      <td>6.0</td>\n",
       "      <td>manual</td>\n",
       "      <td>rear_wheel_drive</td>\n",
       "      <td>2.0</td>\n",
       "      <td>luxury</td>\n",
       "      <td>...</td>\n",
       "      <td>0</td>\n",
       "      <td>0</td>\n",
       "      <td>0</td>\n",
       "      <td>0</td>\n",
       "      <td>0</td>\n",
       "      <td>0</td>\n",
       "      <td>0</td>\n",
       "      <td>0</td>\n",
       "      <td>0</td>\n",
       "      <td>0</td>\n",
       "    </tr>\n",
       "  </tbody>\n",
       "</table>\n",
       "<p>5 rows × 85 columns</p>\n",
       "</div>"
      ],
      "text/plain": [
       "  make       model  year             engine_fuel_type  engine_hp  \\\n",
       "0  bmw  1_series_m  2011  premium_unleaded_(required)      335.0   \n",
       "1  bmw    1_series  2011  premium_unleaded_(required)      300.0   \n",
       "2  bmw    1_series  2011  premium_unleaded_(required)      300.0   \n",
       "3  bmw    1_series  2011  premium_unleaded_(required)      230.0   \n",
       "4  bmw    1_series  2011  premium_unleaded_(required)      230.0   \n",
       "\n",
       "   engine_cylinders transmission_type     driven_wheels  number_of_doors  \\\n",
       "0               6.0            manual  rear_wheel_drive              2.0   \n",
       "1               6.0            manual  rear_wheel_drive              2.0   \n",
       "2               6.0            manual  rear_wheel_drive              2.0   \n",
       "3               6.0            manual  rear_wheel_drive              2.0   \n",
       "4               6.0            manual  rear_wheel_drive              2.0   \n",
       "\n",
       "                         market_category  ... 4dr_suv passenger_minivan  \\\n",
       "0  factory_tuner,luxury,high-performance  ...       0                 0   \n",
       "1                     luxury,performance  ...       0                 0   \n",
       "2                luxury,high-performance  ...       0                 0   \n",
       "3                     luxury,performance  ...       0                 0   \n",
       "4                                 luxury  ...       0                 0   \n",
       "\n",
       "   cargo_minivan  crew_cab_pickup  regular_cab_pickup  extended_cab_pickup  \\\n",
       "0              0                0                   0                    0   \n",
       "1              0                0                   0                    0   \n",
       "2              0                0                   0                    0   \n",
       "3              0                0                   0                    0   \n",
       "4              0                0                   0                    0   \n",
       "\n",
       "   2dr_suv  cargo_van  convertible_suv  passenger_van  \n",
       "0        0          0                0              0  \n",
       "1        0          0                0              0  \n",
       "2        0          0                0              0  \n",
       "3        0          0                0              0  \n",
       "4        0          0                0              0  \n",
       "\n",
       "[5 rows x 85 columns]"
      ]
     },
     "execution_count": 462,
     "metadata": {},
     "output_type": "execute_result"
    }
   ],
   "source": [
    "df = get_formatted_data('chapt2/data.csv')\n",
    "df.head()"
   ]
  },
  {
   "cell_type": "markdown",
   "id": "ec62d959",
   "metadata": {},
   "source": [
    "### Preparation for Training and Evaluation"
   ]
  },
  {
   "cell_type": "markdown",
   "id": "f96d0b64",
   "metadata": {},
   "source": [
    "Partitioning Data into Train, Eval, and Test sets"
   ]
  },
  {
   "cell_type": "code",
   "execution_count": null,
   "id": "77f4cf0b",
   "metadata": {},
   "outputs": [],
   "source": [
    "def partition(df):\n",
    "    length = len(df)\n",
    "    index = np.arange(length)\n",
    "    rng = np.random.default_rng()\n",
    "    rng.shuffle(index)\n",
    "    shuffled_df = df.iloc[index]\n",
    "    # Train is 60%, Eval is 20% and Test is 20% of the data\n",
    "    train_df = shuffled_df.iloc[: 3 * (length // 5)]\n",
    "    eval_df = shuffled_df.iloc[3 * (length // 5): 4 * (length // 5)]\n",
    "    test_df = shuffled_df.iloc[4 * (length // 5):]\n",
    "    return train_df, eval_df, test_df\n",
    "    "
   ]
  },
  {
   "cell_type": "markdown",
   "id": "b16e4aa5",
   "metadata": {},
   "source": [
    "# Model Specification"
   ]
  },
  {
   "cell_type": "markdown",
   "id": "f6621cc7",
   "metadata": {},
   "source": [
    "Selecting Feature Variables"
   ]
  },
  {
   "cell_type": "code",
   "execution_count": 458,
   "id": "b565a107",
   "metadata": {},
   "outputs": [],
   "source": [
    "# Leaving out Make, Style, Size, and Fuel.\n",
    "features = ['engine_hp', 'engine_cylinders', \n",
    "           'highway_mpg', 'city_mpg', 'popularity', '2_doors', '3_doors',\n",
    "           'rear_wheel_drive', 'all_wheel_drive', 'four_wheel_drive', 'age', \n",
    "           'manual']\n",
    "# Adds Categoricals for Make\n",
    "features_make = ['engine_hp', 'engine_cylinders', \n",
    "           'highway_mpg', 'city_mpg', 'popularity', '2_doors', '3_doors',\n",
    "           'rear_wheel_drive', 'all_wheel_drive', 'four_wheel_drive', 'age', \n",
    "           'manual', 'bmw', 'audi', 'mercedes-benz', 'chrysler', 'nissan',\n",
    "           'volvo', 'mazda', 'mitsubishi', 'ferrari', 'alfa_romeo', 'toyota',\n",
    "           'mclaren', 'maybach', 'pontiac', 'porsche', 'saab', 'gmc',\n",
    "           'hyundai', 'plymouth', 'honda', 'oldsmobile', 'suzuki', 'ford',\n",
    "           'cadillac', 'kia', 'bentley', 'chevrolet', 'dodge', 'lamborghini',\n",
    "           'lincoln', 'subaru', 'volkswagen', 'spyker', 'buick', 'acura',\n",
    "           'rolls-royce', 'maserati', 'lexus', 'aston_martin', 'land_rover',\n",
    "           'lotus', 'infiniti', 'scion', 'genesis', 'hummer', 'bugatti']\n",
    "# Adds Categoricals for Style\n",
    "features_style = ['engine_hp', 'engine_cylinders', \n",
    "           'highway_mpg', 'city_mpg', 'popularity', '2_doors', '3_doors',\n",
    "           'rear_wheel_drive', 'all_wheel_drive', 'four_wheel_drive', 'age', \n",
    "           'manual','convertible', 'sedan', 'wagon', '4dr_hatchback',\n",
    "           '2dr_hatchback', '4dr_suv', 'passenger_minivan', 'cargo_minivan',\n",
    "           'crew_cab_pickup', 'regular_cab_pickup', 'extended_cab_pickup',\n",
    "           '2dr_suv', 'cargo_van', 'convertible_suv', 'passenger_van']"
   ]
  },
  {
   "cell_type": "markdown",
   "id": "8d789eba",
   "metadata": {},
   "source": [
    "Functions for Fitting and Evaluating Linear Regression Model"
   ]
  },
  {
   "cell_type": "code",
   "execution_count": 507,
   "id": "a91364b6",
   "metadata": {},
   "outputs": [],
   "source": [
    "def fit(features, target, reg_constant=.001):\n",
    "    features = features.copy()\n",
    "    features['bias'] = np.ones(len(features))\n",
    "    x = features.values\n",
    "    features\n",
    "    x_t = x.T\n",
    "    x_t_x_inv = np.linalg.inv(x_t @ x + reg_constant * np.eye(x.shape[1]))\n",
    "    y = target.values\n",
    "    weights = x_t_x_inv @ x_t @ y\n",
    "    return weights"
   ]
  },
  {
   "cell_type": "code",
   "execution_count": 437,
   "id": "014e0ec2",
   "metadata": {},
   "outputs": [],
   "source": [
    "def predictions(weights, features):\n",
    "    features = features.copy()\n",
    "    features['bias'] = np.ones(len(features))\n",
    "    x = features.values\n",
    "    return x @ weights"
   ]
  },
  {
   "cell_type": "code",
   "execution_count": 438,
   "id": "161d958d",
   "metadata": {},
   "outputs": [],
   "source": [
    "def RMSE(weights, features, target):\n",
    "    y_hat = predictions(weights, features)\n",
    "    y = target.values\n",
    "    rmse = np.sqrt(((y - y_hat) ** 2)).mean()\n",
    "    return rmse"
   ]
  },
  {
   "cell_type": "code",
   "execution_count": 439,
   "id": "eb5914fd",
   "metadata": {},
   "outputs": [],
   "source": [
    "def r_squared(weights, features, target):\n",
    "    y_hat = predictions(weights, features)\n",
    "    y = target.values\n",
    "    TSS = ((y - y.mean()) ** 2).sum()\n",
    "    RSS = ((y - y_hat) ** 2).sum()\n",
    "    r_squared = 1 - RSS / TSS\n",
    "    return r_squared"
   ]
  },
  {
   "cell_type": "markdown",
   "id": "d8122068",
   "metadata": {},
   "source": [
    "Testing Train, Eval, and Test Performance"
   ]
  },
  {
   "cell_type": "code",
   "execution_count": 470,
   "id": "1f8a849b",
   "metadata": {},
   "outputs": [],
   "source": [
    "def test_performance(df, features: list, target_variable, num_tests=100):\n",
    "    train = 0\n",
    "    train_r2 = 0\n",
    "    evaluation = 0\n",
    "    eval_r2 = 0\n",
    "    test = 0\n",
    "    test_r2 = 0\n",
    "    for i in range(num_tests):\n",
    "        train_df, eval_df, test_df = partition(df)\n",
    "        weights = fit(train_df[features], train_df[target_variable])\n",
    "        train += RMSE(weights, train_df[features], train_df[target_variable])\n",
    "        evaluation += RMSE(weights, eval_df[features], eval_df[target_variable])\n",
    "        test += RMSE(weights, test_df[features], test_df[target_variable])\n",
    "        train_r2 += r_squared(weights, train_df[features], train_df[target_variable])\n",
    "        eval_r2 += r_squared(weights, eval_df[features], eval_df[target_variable])\n",
    "        test_r2 += r_squared(weights, test_df[features], test_df[target_variable])\n",
    "    print('Test Results')\n",
    "    print('~~~~~~~~~~~~')\n",
    "    print(f'Training Data RMSE: {train/num_tests: .3f}')\n",
    "    print(f'Eval Data RMSE:     {evaluation/num_tests: .3f}')\n",
    "    print(f'Test Data RMSE:     {test/num_tests: .3f}')\n",
    "    print(f'Training Data R^2:  {train_r2/num_tests: .3f}')\n",
    "    print(f'Eval Data R^2:      {eval_r2/num_tests: .3f}')\n",
    "    print(f'Test Data R^2:      {test_r2/num_tests: .3f}')\n",
    "    print('~~~~~~~~~~~~')"
   ]
  },
  {
   "cell_type": "code",
   "execution_count": 471,
   "id": "22063870",
   "metadata": {},
   "outputs": [
    {
     "name": "stdout",
     "output_type": "stream",
     "text": [
      "Test Results\n",
      "~~~~~~~~~~~~\n",
      "Training Data RMSE:  0.377\n",
      "Eval Data RMSE:      0.379\n",
      "Test Data RMSE:      0.378\n",
      "Training Data R^2:   0.796\n",
      "Eval Data R^2:       0.791\n",
      "Test Data R^2:       0.790\n",
      "~~~~~~~~~~~~\n",
      "Test Results\n",
      "~~~~~~~~~~~~\n",
      "Training Data RMSE:  0.326\n",
      "Eval Data RMSE:      0.330\n",
      "Test Data RMSE:      0.329\n",
      "Training Data R^2:   0.843\n",
      "Eval Data R^2:       0.828\n",
      "Test Data R^2:       0.828\n",
      "~~~~~~~~~~~~\n",
      "Test Results\n",
      "~~~~~~~~~~~~\n",
      "Training Data RMSE:  0.362\n",
      "Eval Data RMSE:      0.365\n",
      "Test Data RMSE:      0.364\n",
      "Training Data R^2:   0.811\n",
      "Eval Data R^2:       0.794\n",
      "Test Data R^2:       0.788\n",
      "~~~~~~~~~~~~\n"
     ]
    }
   ],
   "source": [
    "test_performance(df,  features, 'log_msrp')\n",
    "test_performance(df,  features_make, 'log_msrp')\n",
    "test_performance(df,  features_style, 'log_msrp')"
   ]
  },
  {
   "cell_type": "markdown",
   "id": "07c361cd",
   "metadata": {},
   "source": [
    "Histogram of Actual and Predicted log(MSRP)"
   ]
  },
  {
   "cell_type": "code",
   "execution_count": 508,
   "id": "edac3502",
   "metadata": {},
   "outputs": [
    {
     "data": {
      "text/plain": [
       "<AxesSubplot: xlabel='log_msrp', ylabel='Count'>"
      ]
     },
     "execution_count": 508,
     "metadata": {},
     "output_type": "execute_result"
    },
    {
     "data": {
      "image/png": "[encoded data removed]",
      "text/plain": [
       "<Figure size 432x432 with 1 Axes>"
      ]
     },
     "metadata": {
      "needs_background": "light"
     },
     "output_type": "display_data"
    }
   ],
   "source": [
    "train_df, eval_df, test_df = partition(df)\n",
    "weights = fit(train_df[features], train_df['log_msrp'])\n",
    "preds = predictions(weights, df[features])\n",
    "\n",
    "plt.figure(figsize=(6, 6))\n",
    "sns.histplot(df['log_msrp'], bins=40, color='blue', alpha=.5)\n",
    "sns.histplot(preds, bins=40, color='red')\n"
   ]
  },
  {
   "cell_type": "code",
   "execution_count": 509,
   "id": "d145d8ae",
   "metadata": {},
   "outputs": [
    {
     "name": "stdout",
     "output_type": "stream",
     "text": [
      "engine_hp: 0.0035\n",
      "engine_cylinders: 0.0748\n",
      "highway_mpg: -0.0240\n",
      "city_mpg: 0.0192\n",
      "popularity: -0.0000\n",
      "2_doors: 0.0612\n",
      "3_doors: -0.1000\n",
      "rear_wheel_drive: -0.1009\n",
      "all_wheel_drive: 0.0467\n",
      "four_wheel_drive: -0.2429\n",
      "age: -0.0960\n",
      "manual: -0.1307\n",
      "Intercept : 9.8471\n"
     ]
    }
   ],
   "source": [
    "for i in range(len(weights)):\n",
    "    if i == len(weights) -1:\n",
    "        print(f'Intercept : {weights[i]:.4f}')\n",
    "    else:\n",
    "        print(features[i] + f': {weights[i]:.4f}')"
   ]
  },
  {
   "cell_type": "code",
   "execution_count": null,
   "id": "1085bed8",
   "metadata": {},
   "outputs": [],
   "source": []
  }
 ],
 "metadata": {
  "kernelspec": {
   "display_name": "Python 3",
   "language": "python",
   "name": "python3"
  },
  "language_info": {
   "codemirror_mode": {
    "name": "ipython",
    "version": 3
   },
   "file_extension": ".py",
   "mimetype": "text/x-python",
   "name": "python",
   "nbconvert_exporter": "python",
   "pygments_lexer": "ipython3",
   "version": "3.9.6"
  }
 },
 "nbformat": 4,
 "nbformat_minor": 5
}
